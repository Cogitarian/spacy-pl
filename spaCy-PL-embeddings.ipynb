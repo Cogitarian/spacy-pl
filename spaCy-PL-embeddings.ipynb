{
 "cells": [
  {
   "cell_type": "code",
   "execution_count": 1,
   "metadata": {},
   "outputs": [],
   "source": [
    "import spacy\n",
    "nlp = spacy.load('pl_spacy_model')"
   ]
  },
  {
   "cell_type": "markdown",
   "metadata": {},
   "source": [
    "Adapted from: https://nlpforhackers.io/complete-guide-to-spacy/"
   ]
  },
  {
   "cell_type": "code",
   "execution_count": 2,
   "metadata": {
    "scrolled": false
   },
   "outputs": [
    {
     "name": "stdout",
     "output_type": "stream",
     "text": [
      "[-0.0024764 -0.70863   -0.5028    -0.056419  -0.53134   -0.13114\n",
      " -0.40978   -0.14778   -0.064284   0.6401    -0.17423   -0.50371\n",
      "  0.43842    0.55932   -0.075957  -0.17258    0.30186    0.60262\n",
      " -0.52406    0.11838    0.13601    0.89278    0.21444   -0.060095\n",
      " -0.41741    0.098456  -0.087808  -0.76608   -0.20468   -0.45683\n",
      "  0.71817    0.57862   -0.24163   -0.038695  -0.9357     0.14653\n",
      " -0.53036   -0.21333   -0.28863   -0.2988     0.1382    -0.19232\n",
      " -0.072795  -0.53791    0.25016    0.31046   -0.51876   -0.35181\n",
      "  0.070766  -0.0079212 -0.14035   -0.41757    0.034469   0.33171\n",
      " -0.26193   -0.3754     0.19537   -0.51506    0.3065    -0.30848\n",
      "  0.36483   -0.086375  -0.061522   0.34212   -0.69735    0.23462\n",
      "  0.24127    0.11332   -0.31009    0.28628   -0.83422    0.094826\n",
      "  0.58068   -0.67866    0.29921    0.76477    0.033      0.15036\n",
      " -0.13588   -0.32511   -0.32224    0.0902     0.31761   -0.50214\n",
      " -0.27068   -0.14194   -0.15916    0.065393   0.059113   0.20234\n",
      " -0.0199     0.80114   -0.77958    0.13358   -0.90456   -0.22866\n",
      "  0.20622    0.39419   -0.36117   -0.2796   ]\n"
     ]
    }
   ],
   "source": [
    "print(nlp.vocab['banan'].vector)"
   ]
  },
  {
   "cell_type": "code",
   "execution_count": 3,
   "metadata": {},
   "outputs": [
    {
     "name": "stdout",
     "output_type": "stream",
     "text": [
      "['książę', 'król', 'królewicz', 'monarcha', 'hrabia', 'władca', 'Książę', 'arcyksiążę', 'książe', 'Arcyksiążę']\n"
     ]
    }
   ],
   "source": [
    "from scipy import spatial\n",
    " \n",
    "cosine_similarity = lambda x, y: 1 - spatial.distance.cosine(x, y)\n",
    " \n",
    "man = nlp.vocab['mężczyzna'].vector\n",
    "woman = nlp.vocab['kobieta'].vector\n",
    "queen = nlp.vocab['królowa'].vector\n",
    "king = nlp.vocab['król'].vector\n",
    " \n",
    "# We now need to find the closest vector in the vocabulary to the result of \"man\" - \"woman\" + \"queen\"\n",
    "maybe_king = man - woman + queen\n",
    "computed_similarities = []\n",
    " \n",
    "for word in nlp.vocab:\n",
    "    # Ignore words without vectors\n",
    "    if not word.has_vector:\n",
    "        continue\n",
    " \n",
    "    similarity = cosine_similarity(maybe_king, word.vector)\n",
    "    computed_similarities.append((word, similarity))\n",
    " \n",
    "computed_similarities = sorted(computed_similarities, key=lambda item: -item[1])\n",
    "print([w[0].text for w in computed_similarities[:10]])"
   ]
  },
  {
   "cell_type": "code",
   "execution_count": 4,
   "metadata": {},
   "outputs": [
    {
     "name": "stdout",
     "output_type": "stream",
     "text": [
      "0.68410385 0.38233432\n",
      "0.61139715 0.36240068\n"
     ]
    }
   ],
   "source": [
    "banana = nlp.vocab['banan']\n",
    "dog = nlp.vocab['pies']\n",
    "fruit = nlp.vocab['owoc']\n",
    "animal = nlp.vocab['zwierzę']\n",
    " \n",
    "print(dog.similarity(animal), dog.similarity(fruit)) # ENG: 0.6618534 0.23552845\n",
    "print(banana.similarity(fruit), banana.similarity(animal)) # ENG: 0.67148364 0.2427285"
   ]
  },
  {
   "cell_type": "code",
   "execution_count": 5,
   "metadata": {},
   "outputs": [
    {
     "name": "stdout",
     "output_type": "stream",
     "text": [
      "0.8993484113232622\n",
      "0.828325566207268\n",
      "0.862666079636411\n"
     ]
    }
   ],
   "source": [
    "target = nlp(\"Koty to piękne zwierzęta.\")\n",
    " \n",
    "doc1 = nlp(\"Psy są niesamowite.\")\n",
    "doc2 = nlp(\"Jednymi z najwspanialszych zwierząt są koty.\")\n",
    "doc3 = nlp(\"Delfiny to pływające ssaki.\")\n",
    " \n",
    "print(target.similarity(doc1))  # ENG: 0.8901765218466683\n",
    "print(target.similarity(doc2))  # ENG: 0.9115828449161616\n",
    "print(target.similarity(doc3))  # ENG: 0.7822956752876101"
   ]
  },
  {
   "cell_type": "code",
   "execution_count": null,
   "metadata": {},
   "outputs": [],
   "source": []
  }
 ],
 "metadata": {
  "kernelspec": {
   "display_name": "Python 3",
   "language": "python",
   "name": "python3"
  },
  "language_info": {
   "codemirror_mode": {
    "name": "ipython",
    "version": 3
   },
   "file_extension": ".py",
   "mimetype": "text/x-python",
   "name": "python",
   "nbconvert_exporter": "python",
   "pygments_lexer": "ipython3",
   "version": "3.6.7"
  }
 },
 "nbformat": 4,
 "nbformat_minor": 2
}
